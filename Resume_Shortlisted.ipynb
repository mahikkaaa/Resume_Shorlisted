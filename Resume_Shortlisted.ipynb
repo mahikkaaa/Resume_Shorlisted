{
  "cells": [
    {
      "cell_type": "markdown",
      "metadata": {
        "id": "view-in-github",
        "colab_type": "text"
      },
      "source": [
        "<a href=\"https://colab.research.google.com/github/mahikkaaa/Resume_Shorlisted/blob/main/Resume_Shortlisted.ipynb\" target=\"_parent\"><img src=\"https://colab.research.google.com/assets/colab-badge.svg\" alt=\"Open In Colab\"/></a>"
      ]
    },
    {
      "cell_type": "code",
      "execution_count": null,
      "metadata": {
        "id": "Mq5v0Geagbno",
        "colab": {
          "base_uri": "https://localhost:8080/"
        },
        "outputId": "5dc02a02-8a42-4f13-cd46-f24735de2d9c"
      },
      "outputs": [
        {
          "output_type": "stream",
          "name": "stdout",
          "text": [
            "Looking in indexes: https://pypi.org/simple, https://us-python.pkg.dev/colab-wheels/public/simple/\n",
            "Collecting PyPDF2\n",
            "  Downloading pypdf2-3.0.1-py3-none-any.whl (232 kB)\n",
            "\u001b[2K     \u001b[90m━━━━━━━━━━━━━━━━━━━━━━━━━━━━━━━━━━━━━━━\u001b[0m \u001b[32m232.6/232.6 KB\u001b[0m \u001b[31m8.3 MB/s\u001b[0m eta \u001b[36m0:00:00\u001b[0m\n",
            "\u001b[?25hRequirement already satisfied: typing_extensions>=3.10.0.0 in /usr/local/lib/python3.9/dist-packages (from PyPDF2) (4.5.0)\n",
            "Installing collected packages: PyPDF2\n",
            "Successfully installed PyPDF2-3.0.1\n",
            "Looking in indexes: https://pypi.org/simple, https://us-python.pkg.dev/colab-wheels/public/simple/\n",
            "Collecting textract\n",
            "  Downloading textract-1.6.5-py3-none-any.whl (23 kB)\n",
            "Requirement already satisfied: xlrd~=1.2.0 in /usr/local/lib/python3.9/dist-packages (from textract) (1.2.0)\n",
            "Collecting chardet==3.*\n",
            "  Downloading chardet-3.0.4-py2.py3-none-any.whl (133 kB)\n",
            "\u001b[2K     \u001b[90m━━━━━━━━━━━━━━━━━━━━━━━━━━━━━━━━━━━━━━━\u001b[0m \u001b[32m133.4/133.4 KB\u001b[0m \u001b[31m8.3 MB/s\u001b[0m eta \u001b[36m0:00:00\u001b[0m\n",
            "\u001b[?25hCollecting pdfminer.six==20191110\n",
            "  Downloading pdfminer.six-20191110-py2.py3-none-any.whl (5.6 MB)\n",
            "\u001b[2K     \u001b[90m━━━━━━━━━━━━━━━━━━━━━━━━━━━━━━━━━━━━━━━━\u001b[0m \u001b[32m5.6/5.6 MB\u001b[0m \u001b[31m73.7 MB/s\u001b[0m eta \u001b[36m0:00:00\u001b[0m\n",
            "\u001b[?25hCollecting six~=1.12.0\n",
            "  Downloading six-1.12.0-py2.py3-none-any.whl (10 kB)\n",
            "Collecting python-pptx~=0.6.18\n",
            "  Downloading python-pptx-0.6.21.tar.gz (10.1 MB)\n",
            "\u001b[2K     \u001b[90m━━━━━━━━━━━━━━━━━━━━━━━━━━━━━━━━━━━━━━━━\u001b[0m \u001b[32m10.1/10.1 MB\u001b[0m \u001b[31m87.0 MB/s\u001b[0m eta \u001b[36m0:00:00\u001b[0m\n",
            "\u001b[?25h  Preparing metadata (setup.py) ... \u001b[?25l\u001b[?25hdone\n",
            "Collecting argcomplete~=1.10.0\n",
            "  Downloading argcomplete-1.10.3-py2.py3-none-any.whl (36 kB)\n",
            "Collecting docx2txt~=0.8\n",
            "  Downloading docx2txt-0.8.tar.gz (2.8 kB)\n",
            "  Preparing metadata (setup.py) ... \u001b[?25l\u001b[?25hdone\n",
            "Collecting beautifulsoup4~=4.8.0\n",
            "  Downloading beautifulsoup4-4.8.2-py3-none-any.whl (106 kB)\n",
            "\u001b[2K     \u001b[90m━━━━━━━━━━━━━━━━━━━━━━━━━━━━━━━━━━━━━━\u001b[0m \u001b[32m106.9/106.9 KB\u001b[0m \u001b[31m14.6 MB/s\u001b[0m eta \u001b[36m0:00:00\u001b[0m\n",
            "\u001b[?25hCollecting SpeechRecognition~=3.8.1\n",
            "  Downloading SpeechRecognition-3.8.1-py2.py3-none-any.whl (32.8 MB)\n",
            "\u001b[2K     \u001b[90m━━━━━━━━━━━━━━━━━━━━━━━━━━━━━━━━━━━━━━━━\u001b[0m \u001b[32m32.8/32.8 MB\u001b[0m \u001b[31m28.4 MB/s\u001b[0m eta \u001b[36m0:00:00\u001b[0m\n",
            "\u001b[?25hCollecting extract-msg<=0.29.*\n",
            "  Downloading extract_msg-0.28.7-py2.py3-none-any.whl (69 kB)\n",
            "\u001b[2K     \u001b[90m━━━━━━━━━━━━━━━━━━━━━━━━━━━━━━━━━━━━━━━━\u001b[0m \u001b[32m69.0/69.0 KB\u001b[0m \u001b[31m10.3 MB/s\u001b[0m eta \u001b[36m0:00:00\u001b[0m\n",
            "\u001b[?25hRequirement already satisfied: sortedcontainers in /usr/local/lib/python3.9/dist-packages (from pdfminer.six==20191110->textract) (2.4.0)\n",
            "Collecting pycryptodome\n",
            "  Downloading pycryptodome-3.17-cp35-abi3-manylinux_2_17_x86_64.manylinux2014_x86_64.whl (2.1 MB)\n",
            "\u001b[2K     \u001b[90m━━━━━━━━━━━━━━━━━━━━━━━━━━━━━━━━━━━━━━━━\u001b[0m \u001b[32m2.1/2.1 MB\u001b[0m \u001b[31m80.9 MB/s\u001b[0m eta \u001b[36m0:00:00\u001b[0m\n",
            "\u001b[?25hCollecting soupsieve>=1.2\n",
            "  Downloading soupsieve-2.4-py3-none-any.whl (37 kB)\n",
            "Requirement already satisfied: tzlocal>=2.1 in /usr/local/lib/python3.9/dist-packages (from extract-msg<=0.29.*->textract) (4.2)\n",
            "Collecting compressed-rtf>=1.0.6\n",
            "  Downloading compressed_rtf-1.0.6.tar.gz (5.8 kB)\n",
            "  Preparing metadata (setup.py) ... \u001b[?25l\u001b[?25hdone\n",
            "Collecting ebcdic>=1.1.1\n",
            "  Downloading ebcdic-1.1.1-py2.py3-none-any.whl (128 kB)\n",
            "\u001b[2K     \u001b[90m━━━━━━━━━━━━━━━━━━━━━━━━━━━━━━━━━━━━━━\u001b[0m \u001b[32m128.5/128.5 KB\u001b[0m \u001b[31m17.9 MB/s\u001b[0m eta \u001b[36m0:00:00\u001b[0m\n",
            "\u001b[?25hCollecting imapclient==2.1.0\n",
            "  Downloading IMAPClient-2.1.0-py2.py3-none-any.whl (73 kB)\n",
            "\u001b[2K     \u001b[90m━━━━━━━━━━━━━━━━━━━━━━━━━━━━━━━━━━━━━━━━\u001b[0m \u001b[32m74.0/74.0 KB\u001b[0m \u001b[31m10.1 MB/s\u001b[0m eta \u001b[36m0:00:00\u001b[0m\n",
            "\u001b[?25hCollecting olefile>=0.46\n",
            "  Downloading olefile-0.46.zip (112 kB)\n",
            "\u001b[2K     \u001b[90m━━━━━━━━━━━━━━━━━━━━━━━━━━━━━━━━━━━━━━\u001b[0m \u001b[32m112.2/112.2 KB\u001b[0m \u001b[31m17.3 MB/s\u001b[0m eta \u001b[36m0:00:00\u001b[0m\n",
            "\u001b[?25h  Preparing metadata (setup.py) ... \u001b[?25l\u001b[?25hdone\n",
            "Requirement already satisfied: lxml>=3.1.0 in /usr/local/lib/python3.9/dist-packages (from python-pptx~=0.6.18->textract) (4.9.2)\n",
            "Requirement already satisfied: Pillow>=3.3.2 in /usr/local/lib/python3.9/dist-packages (from python-pptx~=0.6.18->textract) (8.4.0)\n",
            "Collecting XlsxWriter>=0.5.7\n",
            "  Downloading XlsxWriter-3.0.8-py3-none-any.whl (152 kB)\n",
            "\u001b[2K     \u001b[90m━━━━━━━━━━━━━━━━━━━━━━━━━━━━━━━━━━━━━━\u001b[0m \u001b[32m152.8/152.8 KB\u001b[0m \u001b[31m15.1 MB/s\u001b[0m eta \u001b[36m0:00:00\u001b[0m\n",
            "\u001b[?25hRequirement already satisfied: pytz-deprecation-shim in /usr/local/lib/python3.9/dist-packages (from tzlocal>=2.1->extract-msg<=0.29.*->textract) (0.1.0.post0)\n",
            "Requirement already satisfied: tzdata in /usr/local/lib/python3.9/dist-packages (from pytz-deprecation-shim->tzlocal>=2.1->extract-msg<=0.29.*->textract) (2022.7)\n",
            "Building wheels for collected packages: docx2txt, python-pptx, compressed-rtf, olefile\n",
            "  Building wheel for docx2txt (setup.py) ... \u001b[?25l\u001b[?25hdone\n",
            "  Created wheel for docx2txt: filename=docx2txt-0.8-py3-none-any.whl size=3980 sha256=e2d76cf123f365ca25de40c0b999003b8886ecd9c8856e8aac3a78151ae64778\n",
            "  Stored in directory: /root/.cache/pip/wheels/40/75/01/e6c444034338bde9c7947d3467807f889123465c2371e77418\n",
            "  Building wheel for python-pptx (setup.py) ... \u001b[?25l\u001b[?25hdone\n",
            "  Created wheel for python-pptx: filename=python_pptx-0.6.21-py3-none-any.whl size=470952 sha256=39912e091aa9990d24a4ae5e825e56bf58594fc7232b7b35f178100f50f9b965\n",
            "  Stored in directory: /root/.cache/pip/wheels/0e/4a/ed/9653bc799915f52dce3f04d14946fbd85cce9c3cdedc9cfa71\n",
            "  Building wheel for compressed-rtf (setup.py) ... \u001b[?25l\u001b[?25hdone\n",
            "  Created wheel for compressed-rtf: filename=compressed_rtf-1.0.6-py3-none-any.whl size=6200 sha256=be2d6c4ee25938d13f012a629f5b20aff964c67f4f4d3cdf0bc907cfcc390405\n",
            "  Stored in directory: /root/.cache/pip/wheels/e4/67/e4/ba2159853bdd0fe99330aa1e384915108143a5370686ea446f\n",
            "  Building wheel for olefile (setup.py) ... \u001b[?25l\u001b[?25hdone\n",
            "  Created wheel for olefile: filename=olefile-0.46-py2.py3-none-any.whl size=35430 sha256=0eb134b601f2db69d1ba64830b07571b044e32100a57bee7fe26d9838caa7518\n",
            "  Stored in directory: /root/.cache/pip/wheels/64/b8/ba/ebba30390fbd997074f35e42a842ce3fd933213cac8753414e\n",
            "Successfully built docx2txt python-pptx compressed-rtf olefile\n",
            "Installing collected packages: SpeechRecognition, ebcdic, docx2txt, compressed-rtf, chardet, argcomplete, XlsxWriter, soupsieve, six, pycryptodome, olefile, python-pptx, pdfminer.six, imapclient, beautifulsoup4, extract-msg, textract\n",
            "  Attempting uninstall: chardet\n",
            "    Found existing installation: chardet 4.0.0\n",
            "    Uninstalling chardet-4.0.0:\n",
            "      Successfully uninstalled chardet-4.0.0\n",
            "  Attempting uninstall: six\n",
            "    Found existing installation: six 1.15.0\n",
            "    Uninstalling six-1.15.0:\n",
            "      Successfully uninstalled six-1.15.0\n",
            "  Attempting uninstall: beautifulsoup4\n",
            "    Found existing installation: beautifulsoup4 4.6.3\n",
            "    Uninstalling beautifulsoup4-4.6.3:\n",
            "      Successfully uninstalled beautifulsoup4-4.6.3\n",
            "\u001b[31mERROR: pip's dependency resolver does not currently take into account all the packages that are installed. This behaviour is the source of the following dependency conflicts.\n",
            "ipython 7.9.0 requires jedi>=0.10, which is not installed.\u001b[0m\u001b[31m\n",
            "\u001b[0mSuccessfully installed SpeechRecognition-3.8.1 XlsxWriter-3.0.8 argcomplete-1.10.3 beautifulsoup4-4.8.2 chardet-3.0.4 compressed-rtf-1.0.6 docx2txt-0.8 ebcdic-1.1.1 extract-msg-0.28.7 imapclient-2.1.0 olefile-0.46 pdfminer.six-20191110 pycryptodome-3.17 python-pptx-0.6.21 six-1.12.0 soupsieve-2.4 textract-1.6.5\n"
          ]
        }
      ],
      "source": [
        "# Import required libraries\n",
        "!pip install PyPDF2\n",
        "!pip install textract\n",
        "import PyPDF2\n",
        "import textract\n",
        "import re\n",
        "import string\n",
        "import pandas as pd\n",
        "import matplotlib.pyplot as plt\n",
        "%matplotlib inline\n",
        "#https://towardsdatascience.com/resume-screening-with-python-1dea360be49b\n",
        "#https://www.youtube.com/watch?v=hqu5EYMLCUw\n",
        "#https://www.analyticsvidhya.com/blog/2021/06/resume-screening-with-natural-language-processing-in-python/\n",
        "#https://www.kaggle.com/datasets/gauravduttakiit/resume-dataset\n",
        "#https://link.springer.com/chapter/10.1007/978-981-19-1018-0_26\n"
      ]
    },
    {
      "cell_type": "code",
      "execution_count": null,
      "metadata": {
        "id": "DoRLDhdXgmsP"
      },
      "outputs": [],
      "source": [
        "# Open pdf file\n",
        "pdfFileObj = open('ats mahika.docx.pdf','rb')\n",
        "\n",
        "# Read file\n",
        "pdfReader = PyPDF2.PdfReader(pdfFileObj)\n",
        "\n"
      ]
    },
    {
      "cell_type": "code",
      "execution_count": null,
      "metadata": {
        "colab": {
          "base_uri": "https://localhost:8080/"
        },
        "id": "ZwUxwlvWiNeX",
        "outputId": "9547255c-0017-4e9c-d9cb-22a0666f759b"
      },
      "outputs": [
        {
          "output_type": "stream",
          "name": "stdout",
          "text": [
            "Looking in indexes: https://pypi.org/simple, https://us-python.pkg.dev/colab-wheels/public/simple/\n",
            "Collecting PyPDF2<3.0\n",
            "  Downloading pypdf2-2.12.1-py3-none-any.whl (222 kB)\n",
            "\u001b[2K     \u001b[90m━━━━━━━━━━━━━━━━━━━━━━━━━━━━━━━━━━━━━━━\u001b[0m \u001b[32m222.8/222.8 KB\u001b[0m \u001b[31m5.7 MB/s\u001b[0m eta \u001b[36m0:00:00\u001b[0m\n",
            "\u001b[?25hRequirement already satisfied: typing_extensions>=3.10.0.0 in /usr/local/lib/python3.9/dist-packages (from PyPDF2<3.0) (4.5.0)\n",
            "Installing collected packages: PyPDF2\n",
            "  Attempting uninstall: PyPDF2\n",
            "    Found existing installation: PyPDF2 3.0.1\n",
            "    Uninstalling PyPDF2-3.0.1:\n",
            "      Successfully uninstalled PyPDF2-3.0.1\n",
            "Successfully installed PyPDF2-2.12.1\n"
          ]
        }
      ],
      "source": [
        "!pip install 'PyPDF2<3.0'\n"
      ]
    },
    {
      "cell_type": "code",
      "execution_count": null,
      "metadata": {
        "colab": {
          "base_uri": "https://localhost:8080/"
        },
        "id": "wOQchxuJhEn-",
        "outputId": "b63429e6-2595-40c9-91fe-432273cbc9dd"
      },
      "outputs": [
        {
          "output_type": "stream",
          "name": "stdout",
          "text": [
            "Looking in indexes: https://pypi.org/simple, https://us-python.pkg.dev/colab-wheels/public/simple/\n",
            "Collecting PyPdf\n",
            "  Downloading pypdf-3.5.1-py3-none-any.whl (244 kB)\n",
            "\u001b[2K     \u001b[90m━━━━━━━━━━━━━━━━━━━━━━━━━━━━━━━━━━━━━━━\u001b[0m \u001b[32m244.3/244.3 KB\u001b[0m \u001b[31m7.8 MB/s\u001b[0m eta \u001b[36m0:00:00\u001b[0m\n",
            "\u001b[?25hRequirement already satisfied: typing_extensions>=3.10.0.0 in /usr/local/lib/python3.9/dist-packages (from PyPdf) (4.5.0)\n",
            "Installing collected packages: PyPdf\n",
            "Successfully installed PyPdf-3.5.1\n",
            "1\n"
          ]
        }
      ],
      "source": [
        "!pip install PyPdf\n",
        "# Get total number of pages\n",
        "\n",
        "from PyPDF2 import PdfReader\n",
        "\n",
        "reader = PdfReader(\"ats mahika.docx.pdf\")\n",
        "num_pages = len(reader.pages)\n",
        "print(num_pages)\n",
        "\n"
      ]
    },
    {
      "cell_type": "code",
      "execution_count": null,
      "metadata": {
        "id": "4WHU0WnQkqyV"
      },
      "outputs": [],
      "source": [
        "# Initialize a count for the number of pages\n",
        "count = 0\n",
        "\n",
        "# Initialize a text empty etring variable\n",
        "text = \"\"\n",
        "\n",
        "# Extract text from every page on the file\n",
        "while count < num_pages:\n",
        "    pageObj = reader.pages[0]\n",
        "    count +=1\n",
        "    text += pageObj.extract_text()\n",
        "\n",
        "\n",
        "\n",
        "# Initialize a count for the number of pages\n",
        "#count = 0\n",
        "\n",
        "# Initialize a text empty etring variable\n",
        "#text = \"\"\n",
        "\n",
        "# Extract text from every page on the file\n",
        "#while count < num_pages:\n",
        " #   pageObj = pdfReader.getPage(count)\n",
        "  #  count +=1\n",
        "   # text += pageObj.extractText()"
      ]
    },
    {
      "cell_type": "markdown",
      "metadata": {
        "id": "pOic4SxkmEj5"
      },
      "source": [
        "Step #2: Text cleaning\n",
        "\n"
      ]
    },
    {
      "cell_type": "code",
      "execution_count": null,
      "metadata": {
        "id": "ShphczHflzfS"
      },
      "outputs": [],
      "source": [
        "# Convert all strings to lowercase\n",
        "text = text.lower()\n",
        "\n",
        "# Remove numbers\n",
        "text = re.sub(r'\\d+','',text)\n",
        "\n",
        "# Remove punctuation\n",
        "text = text.translate(str.maketrans('','',string.punctuation))"
      ]
    },
    {
      "cell_type": "markdown",
      "source": [
        "Step #3: Dictionary with key terms by area setup*\n",
        "\n"
      ],
      "metadata": {
        "id": "pzTnB94peB31"
      }
    },
    {
      "cell_type": "code",
      "execution_count": null,
      "metadata": {
        "id": "mupqUXrehrNt"
      },
      "outputs": [],
      "source": [
        "# Create dictionary with industrial and system engineering key terms by area\n",
        "terms = {'Six Sigma Quality':['black belt','capability analysis','control charts','doe','dmaic','fishbone',\n",
        "                              'gage r&r', 'green belt','ishikawa','iso','kaizen','kpi','lean','metrics',\n",
        "                              'pdsa','performance improvement','process improvement','quality',\n",
        "                              'quality circles','quality tools','root cause','six sigma',\n",
        "                              'stability analysis','statistical analysis','tqm'],      \n",
        "        'Operations management':['automation','bottleneck','constraints','cycle time','efficiency','fmea',\n",
        "                                 'machinery','maintenance','manufacture','line balancing','oee','operations',\n",
        "                                 'operations research','optimization','overall equipment effectiveness',\n",
        "                                 'pfmea','process','process mapping','production','resources','safety',\n",
        "                                 'stoppage','value stream mapping','utilization'],\n",
        "        'Supply chain':['abc analysis','apics','customer','customs','delivery','distribution','eoq','epq',\n",
        "                        'fleet','forecast','inventory','logistic','materials','outsourcing','procurement',\n",
        "                        'reorder point','rout','safety stock','scheduling','shipping','stock','suppliers',\n",
        "                        'third party logistics','transport','transportation','traffic','supply chain',\n",
        "                        'vendor','warehouse','wip','work in progress'],\n",
        "        'Project management':['administration','agile','budget','cost','direction','feasibility analysis',\n",
        "                              'finance','kanban','leader','leadership','management','milestones','planning',\n",
        "                              'pmi','pmp','problem','project','risk','schedule','scrum','stakeholders'],\n",
        "        'Data analytics':['analytics','api','aws','big data','busines intelligence','clustering','code',\n",
        "                          'coding','data','database','data mining','data science','deep learning','hadoop',\n",
        "                          'hypothesis test','iot','internet','machine learning','modeling','nosql','nlp',\n",
        "                          'predictive','programming','python','r','sql','tableau','text mining',\n",
        "                          'visualuzation'],\n",
        "        'Healthcare':['adverse events','care','clinic','cphq','ergonomics','healthcare',\n",
        "                      'health care','health','hospital','human factors','medical','near misses',\n",
        "                      'patient','reporting system'],\n",
        "         'Content Writer': ['blog', 'articles', 'website', 'Wordpress', 'engagement', 'participation', \n",
        "                            'writer', 'assist', 'SEO', 'seo', 'Guideline']}\n"
      ]
    },
    {
      "cell_type": "markdown",
      "source": [
        "Step #4: Scores calculation per area\n",
        "\n"
      ],
      "metadata": {
        "id": "FsKERdb6eTwP"
      }
    },
    {
      "cell_type": "code",
      "source": [
        "# Initializie score counters for each area\n",
        "quality = 0\n",
        "operations = 0\n",
        "supplychain = 0\n",
        "project = 0\n",
        "data = 0\n",
        "healthcare = 0\n",
        "content = 0\n",
        "\n",
        "# Create an empty list where the scores will be stored\n",
        "scores = []\n",
        "\n",
        "# Obtain the scores for each area\n",
        "for area in terms.keys():\n",
        "        \n",
        "    if area == 'Quality/Six Sigma':\n",
        "        for word in terms[area]:\n",
        "            if word in text:\n",
        "                quality +=1\n",
        "        scores.append(quality)\n",
        "        \n",
        "    elif area == 'Operations management':\n",
        "        for word in terms[area]:\n",
        "            if word in text:\n",
        "                operations +=1\n",
        "        scores.append(operations)\n",
        "        \n",
        "    elif area == 'Supply chain':\n",
        "        for word in terms[area]:\n",
        "            if word in text:\n",
        "                supplychain +=1\n",
        "        scores.append(supplychain)\n",
        "        \n",
        "    elif area == 'Project management':\n",
        "        for word in terms[area]:\n",
        "            if word in text:\n",
        "                project +=1\n",
        "        scores.append(project)\n",
        "        \n",
        "    elif area == 'Data analytics':\n",
        "        for word in terms[area]:\n",
        "            if word in text:\n",
        "                data +=1\n",
        "        scores.append(data)\n",
        "        \n",
        "    else:\n",
        "        for word in terms[area]:\n",
        "            if word in text:\n",
        "                healthcare +=1\n",
        "        scores.append(healthcare)"
      ],
      "metadata": {
        "id": "XDCdbpF-eZrl"
      },
      "execution_count": null,
      "outputs": []
    },
    {
      "cell_type": "markdown",
      "source": [
        "Step #5: Sorted data frame for final scores creation\n",
        "\n"
      ],
      "metadata": {
        "id": "VScY_zeZei1I"
      }
    },
    {
      "cell_type": "code",
      "source": [
        "\n",
        "# Create a data frame with the scores summary\n",
        "summary = pd.DataFrame(scores,index=terms.keys(),columns=['score'])#.sort_values(by='score',ascending=False)\n",
        "summary"
      ],
      "metadata": {
        "colab": {
          "base_uri": "https://localhost:8080/",
          "height": 269
        },
        "id": "93k1KUjlemRf",
        "outputId": "0b83f8af-0525-46d7-9320-46c5466f9229"
      },
      "execution_count": null,
      "outputs": [
        {
          "output_type": "execute_result",
          "data": {
            "text/plain": [
              "                       score\n",
              "Six Sigma Quality          0\n",
              "Operations management      1\n",
              "Supply chain               1\n",
              "Project management         2\n",
              "Data analytics             8\n",
              "Healthcare                 0\n",
              "Content Writer             3"
            ],
            "text/html": [
              "\n",
              "  <div id=\"df-0b7ef799-330f-4d93-9473-dbd9dbb29a6c\">\n",
              "    <div class=\"colab-df-container\">\n",
              "      <div>\n",
              "<style scoped>\n",
              "    .dataframe tbody tr th:only-of-type {\n",
              "        vertical-align: middle;\n",
              "    }\n",
              "\n",
              "    .dataframe tbody tr th {\n",
              "        vertical-align: top;\n",
              "    }\n",
              "\n",
              "    .dataframe thead th {\n",
              "        text-align: right;\n",
              "    }\n",
              "</style>\n",
              "<table border=\"1\" class=\"dataframe\">\n",
              "  <thead>\n",
              "    <tr style=\"text-align: right;\">\n",
              "      <th></th>\n",
              "      <th>score</th>\n",
              "    </tr>\n",
              "  </thead>\n",
              "  <tbody>\n",
              "    <tr>\n",
              "      <th>Six Sigma Quality</th>\n",
              "      <td>0</td>\n",
              "    </tr>\n",
              "    <tr>\n",
              "      <th>Operations management</th>\n",
              "      <td>1</td>\n",
              "    </tr>\n",
              "    <tr>\n",
              "      <th>Supply chain</th>\n",
              "      <td>1</td>\n",
              "    </tr>\n",
              "    <tr>\n",
              "      <th>Project management</th>\n",
              "      <td>2</td>\n",
              "    </tr>\n",
              "    <tr>\n",
              "      <th>Data analytics</th>\n",
              "      <td>8</td>\n",
              "    </tr>\n",
              "    <tr>\n",
              "      <th>Healthcare</th>\n",
              "      <td>0</td>\n",
              "    </tr>\n",
              "    <tr>\n",
              "      <th>Content Writer</th>\n",
              "      <td>3</td>\n",
              "    </tr>\n",
              "  </tbody>\n",
              "</table>\n",
              "</div>\n",
              "      <button class=\"colab-df-convert\" onclick=\"convertToInteractive('df-0b7ef799-330f-4d93-9473-dbd9dbb29a6c')\"\n",
              "              title=\"Convert this dataframe to an interactive table.\"\n",
              "              style=\"display:none;\">\n",
              "        \n",
              "  <svg xmlns=\"http://www.w3.org/2000/svg\" height=\"24px\"viewBox=\"0 0 24 24\"\n",
              "       width=\"24px\">\n",
              "    <path d=\"M0 0h24v24H0V0z\" fill=\"none\"/>\n",
              "    <path d=\"M18.56 5.44l.94 2.06.94-2.06 2.06-.94-2.06-.94-.94-2.06-.94 2.06-2.06.94zm-11 1L8.5 8.5l.94-2.06 2.06-.94-2.06-.94L8.5 2.5l-.94 2.06-2.06.94zm10 10l.94 2.06.94-2.06 2.06-.94-2.06-.94-.94-2.06-.94 2.06-2.06.94z\"/><path d=\"M17.41 7.96l-1.37-1.37c-.4-.4-.92-.59-1.43-.59-.52 0-1.04.2-1.43.59L10.3 9.45l-7.72 7.72c-.78.78-.78 2.05 0 2.83L4 21.41c.39.39.9.59 1.41.59.51 0 1.02-.2 1.41-.59l7.78-7.78 2.81-2.81c.8-.78.8-2.07 0-2.86zM5.41 20L4 18.59l7.72-7.72 1.47 1.35L5.41 20z\"/>\n",
              "  </svg>\n",
              "      </button>\n",
              "      \n",
              "  <style>\n",
              "    .colab-df-container {\n",
              "      display:flex;\n",
              "      flex-wrap:wrap;\n",
              "      gap: 12px;\n",
              "    }\n",
              "\n",
              "    .colab-df-convert {\n",
              "      background-color: #E8F0FE;\n",
              "      border: none;\n",
              "      border-radius: 50%;\n",
              "      cursor: pointer;\n",
              "      display: none;\n",
              "      fill: #1967D2;\n",
              "      height: 32px;\n",
              "      padding: 0 0 0 0;\n",
              "      width: 32px;\n",
              "    }\n",
              "\n",
              "    .colab-df-convert:hover {\n",
              "      background-color: #E2EBFA;\n",
              "      box-shadow: 0px 1px 2px rgba(60, 64, 67, 0.3), 0px 1px 3px 1px rgba(60, 64, 67, 0.15);\n",
              "      fill: #174EA6;\n",
              "    }\n",
              "\n",
              "    [theme=dark] .colab-df-convert {\n",
              "      background-color: #3B4455;\n",
              "      fill: #D2E3FC;\n",
              "    }\n",
              "\n",
              "    [theme=dark] .colab-df-convert:hover {\n",
              "      background-color: #434B5C;\n",
              "      box-shadow: 0px 1px 3px 1px rgba(0, 0, 0, 0.15);\n",
              "      filter: drop-shadow(0px 1px 2px rgba(0, 0, 0, 0.3));\n",
              "      fill: #FFFFFF;\n",
              "    }\n",
              "  </style>\n",
              "\n",
              "      <script>\n",
              "        const buttonEl =\n",
              "          document.querySelector('#df-0b7ef799-330f-4d93-9473-dbd9dbb29a6c button.colab-df-convert');\n",
              "        buttonEl.style.display =\n",
              "          google.colab.kernel.accessAllowed ? 'block' : 'none';\n",
              "\n",
              "        async function convertToInteractive(key) {\n",
              "          const element = document.querySelector('#df-0b7ef799-330f-4d93-9473-dbd9dbb29a6c');\n",
              "          const dataTable =\n",
              "            await google.colab.kernel.invokeFunction('convertToInteractive',\n",
              "                                                     [key], {});\n",
              "          if (!dataTable) return;\n",
              "\n",
              "          const docLinkHtml = 'Like what you see? Visit the ' +\n",
              "            '<a target=\"_blank\" href=https://colab.research.google.com/notebooks/data_table.ipynb>data table notebook</a>'\n",
              "            + ' to learn more about interactive tables.';\n",
              "          element.innerHTML = '';\n",
              "          dataTable['output_type'] = 'display_data';\n",
              "          await google.colab.output.renderOutput(dataTable, element);\n",
              "          const docLink = document.createElement('div');\n",
              "          docLink.innerHTML = docLinkHtml;\n",
              "          element.appendChild(docLink);\n",
              "        }\n",
              "      </script>\n",
              "    </div>\n",
              "  </div>\n",
              "  "
            ]
          },
          "metadata": {},
          "execution_count": 11
        }
      ]
    },
    {
      "cell_type": "markdown",
      "source": [
        "Step #6: Pie chart creation\n",
        "\n"
      ],
      "metadata": {
        "id": "uEJXxZVXeoNi"
      }
    },
    {
      "cell_type": "code",
      "source": [
        "# Create pie chart visualization\n",
        "pie = plt.figure(figsize=(10,10))\n",
        "plt.pie(summary['score'], labels=summary.index, explode = (0,0,0,0,0,0,0), autopct='%1.0f%%',shadow=True,startangle=150)\n",
        "plt.title('Content Writer - Resume Decomposition by Areas')\n",
        "plt.axis('equal')\n",
        "plt.show()\n",
        "\n",
        "# Save pie chart as a .png file\n",
        "pie.savefig('resume_screening_results.png')"
      ],
      "metadata": {
        "colab": {
          "base_uri": "https://localhost:8080/",
          "height": 591
        },
        "id": "ll04V75zep-0",
        "outputId": "036583e1-8262-4155-8c95-665eaffab248"
      },
      "execution_count": null,
      "outputs": [
        {
          "output_type": "display_data",
          "data": {
            "text/plain": [
              "<Figure size 720x720 with 1 Axes>"
            ],
            "image/png": "[encoded data removed]"
          },
          "metadata": {}
        }
      ]
    }
  ],
  "metadata": {
    "colab": {
      "provenance": [],
      "authorship_tag": "ABX9TyPkw4XsrCUpPM5n4XyjFRmJ",
      "include_colab_link": true
    },
    "kernelspec": {
      "display_name": "Python 3",
      "name": "python3"
    },
    "language_info": {
      "name": "python"
    }
  },
  "nbformat": 4,
  "nbformat_minor": 0
}